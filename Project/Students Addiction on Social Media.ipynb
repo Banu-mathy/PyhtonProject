{
 "cells": [
  {
   "cell_type": "markdown",
   "id": "f3040ec0-cf9e-4519-bdbd-70f08e2006dc",
   "metadata": {},
   "source": [
    "##         STUDENTS ADDICTION ON SOCIAL MEDIA\n"
   ]
  },
  {
   "cell_type": "markdown",
   "id": "eb6360a4-3929-4333-b8fe-bf46ae69c3cd",
   "metadata": {},
   "source": [
    "####        Importing Libraries\n"
   ]
  },
  {
   "cell_type": "code",
   "execution_count": 1,
   "id": "d692adc7-2402-4ff1-aef6-fef261e58b6a",
   "metadata": {},
   "outputs": [],
   "source": [
    "import pandas as pd\n",
    "import numpy as np\n",
    "import matplotlib.pyplot as plt\n",
    "import seaborn as sns"
   ]
  },
  {
   "cell_type": "markdown",
   "id": "ba6190aa-448d-47ad-b821-f3b6d9e8b174",
   "metadata": {},
   "source": [
    "####        Importing Data\n"
   ]
  },
  {
   "cell_type": "code",
   "execution_count": 2,
   "id": "6fc4d594-0b25-4682-838c-412ab2e01b46",
   "metadata": {},
   "outputs": [],
   "source": [
    "df = pd.read_csv(\"C:/Banu for fun/Data Analytics/Python/Project/Students addiction on social media.csv\")\n"
   ]
  },
  {
   "cell_type": "markdown",
   "id": "7777ee54-5299-40c7-9532-7daa02f18ba2",
   "metadata": {},
   "source": [
    "####       Initial Data Exploration and Structure Overview\n"
   ]
  },
  {
   "cell_type": "code",
   "execution_count": 3,
   "id": "93bff0b2-2d23-40fc-9cc4-261cbf2828fd",
   "metadata": {},
   "outputs": [
    {
     "data": {
      "text/html": [
       "<div>\n",
       "<style scoped>\n",
       "    .dataframe tbody tr th:only-of-type {\n",
       "        vertical-align: middle;\n",
       "    }\n",
       "\n",
       "    .dataframe tbody tr th {\n",
       "        vertical-align: top;\n",
       "    }\n",
       "\n",
       "    .dataframe thead th {\n",
       "        text-align: right;\n",
       "    }\n",
       "</style>\n",
       "<table border=\"1\" class=\"dataframe\">\n",
       "  <thead>\n",
       "    <tr style=\"text-align: right;\">\n",
       "      <th></th>\n",
       "      <th>Student_ID</th>\n",
       "      <th>Age</th>\n",
       "      <th>Gender</th>\n",
       "      <th>Academic_Level</th>\n",
       "      <th>Country</th>\n",
       "      <th>Avg_Daily_Usage_Hours</th>\n",
       "      <th>Most_Used_Platform</th>\n",
       "      <th>Affects_Academic_Performance</th>\n",
       "      <th>Sleep_Hours_Per_Night</th>\n",
       "      <th>Mental_Health_Score</th>\n",
       "      <th>Relationship_Status</th>\n",
       "      <th>Conflicts_Over_Social_Media</th>\n",
       "      <th>Addicted_Score</th>\n",
       "    </tr>\n",
       "  </thead>\n",
       "  <tbody>\n",
       "    <tr>\n",
       "      <th>449</th>\n",
       "      <td>450</td>\n",
       "      <td>21</td>\n",
       "      <td>Male</td>\n",
       "      <td>Graduate</td>\n",
       "      <td>Canada</td>\n",
       "      <td>4.1</td>\n",
       "      <td>Instagram</td>\n",
       "      <td>Yes</td>\n",
       "      <td>8.1</td>\n",
       "      <td>6</td>\n",
       "      <td>Single</td>\n",
       "      <td>3</td>\n",
       "      <td>7</td>\n",
       "    </tr>\n",
       "    <tr>\n",
       "      <th>535</th>\n",
       "      <td>536</td>\n",
       "      <td>22</td>\n",
       "      <td>Male</td>\n",
       "      <td>Graduate</td>\n",
       "      <td>Malaysia</td>\n",
       "      <td>5.8</td>\n",
       "      <td>WhatsApp</td>\n",
       "      <td>Yes</td>\n",
       "      <td>6.5</td>\n",
       "      <td>6</td>\n",
       "      <td>Single</td>\n",
       "      <td>3</td>\n",
       "      <td>7</td>\n",
       "    </tr>\n",
       "    <tr>\n",
       "      <th>40</th>\n",
       "      <td>41</td>\n",
       "      <td>24</td>\n",
       "      <td>Male</td>\n",
       "      <td>Graduate</td>\n",
       "      <td>South Africa</td>\n",
       "      <td>2.3</td>\n",
       "      <td>LinkedIn</td>\n",
       "      <td>No</td>\n",
       "      <td>7.3</td>\n",
       "      <td>8</td>\n",
       "      <td>In Relationship</td>\n",
       "      <td>1</td>\n",
       "      <td>4</td>\n",
       "    </tr>\n",
       "    <tr>\n",
       "      <th>91</th>\n",
       "      <td>92</td>\n",
       "      <td>19</td>\n",
       "      <td>Female</td>\n",
       "      <td>Undergraduate</td>\n",
       "      <td>Albania</td>\n",
       "      <td>4.7</td>\n",
       "      <td>TikTok</td>\n",
       "      <td>Yes</td>\n",
       "      <td>5.8</td>\n",
       "      <td>6</td>\n",
       "      <td>Complicated</td>\n",
       "      <td>3</td>\n",
       "      <td>7</td>\n",
       "    </tr>\n",
       "    <tr>\n",
       "      <th>174</th>\n",
       "      <td>175</td>\n",
       "      <td>20</td>\n",
       "      <td>Female</td>\n",
       "      <td>Undergraduate</td>\n",
       "      <td>Nepal</td>\n",
       "      <td>5.7</td>\n",
       "      <td>TikTok</td>\n",
       "      <td>Yes</td>\n",
       "      <td>5.6</td>\n",
       "      <td>6</td>\n",
       "      <td>Single</td>\n",
       "      <td>4</td>\n",
       "      <td>8</td>\n",
       "    </tr>\n",
       "    <tr>\n",
       "      <th>445</th>\n",
       "      <td>446</td>\n",
       "      <td>21</td>\n",
       "      <td>Male</td>\n",
       "      <td>Graduate</td>\n",
       "      <td>Turkey</td>\n",
       "      <td>4.3</td>\n",
       "      <td>Instagram</td>\n",
       "      <td>Yes</td>\n",
       "      <td>7.9</td>\n",
       "      <td>6</td>\n",
       "      <td>Single</td>\n",
       "      <td>3</td>\n",
       "      <td>7</td>\n",
       "    </tr>\n",
       "    <tr>\n",
       "      <th>585</th>\n",
       "      <td>586</td>\n",
       "      <td>23</td>\n",
       "      <td>Male</td>\n",
       "      <td>Graduate</td>\n",
       "      <td>Poland</td>\n",
       "      <td>6.4</td>\n",
       "      <td>Facebook</td>\n",
       "      <td>Yes</td>\n",
       "      <td>6.3</td>\n",
       "      <td>5</td>\n",
       "      <td>Single</td>\n",
       "      <td>4</td>\n",
       "      <td>8</td>\n",
       "    </tr>\n",
       "    <tr>\n",
       "      <th>301</th>\n",
       "      <td>302</td>\n",
       "      <td>21</td>\n",
       "      <td>Male</td>\n",
       "      <td>Graduate</td>\n",
       "      <td>UK</td>\n",
       "      <td>4.8</td>\n",
       "      <td>Facebook</td>\n",
       "      <td>Yes</td>\n",
       "      <td>6.8</td>\n",
       "      <td>6</td>\n",
       "      <td>In Relationship</td>\n",
       "      <td>3</td>\n",
       "      <td>7</td>\n",
       "    </tr>\n",
       "    <tr>\n",
       "      <th>51</th>\n",
       "      <td>52</td>\n",
       "      <td>20</td>\n",
       "      <td>Female</td>\n",
       "      <td>Undergraduate</td>\n",
       "      <td>Paraguay</td>\n",
       "      <td>4.7</td>\n",
       "      <td>TikTok</td>\n",
       "      <td>Yes</td>\n",
       "      <td>5.8</td>\n",
       "      <td>6</td>\n",
       "      <td>In Relationship</td>\n",
       "      <td>3</td>\n",
       "      <td>7</td>\n",
       "    </tr>\n",
       "    <tr>\n",
       "      <th>270</th>\n",
       "      <td>271</td>\n",
       "      <td>20</td>\n",
       "      <td>Female</td>\n",
       "      <td>Undergraduate</td>\n",
       "      <td>Australia</td>\n",
       "      <td>4.5</td>\n",
       "      <td>Instagram</td>\n",
       "      <td>No</td>\n",
       "      <td>7.3</td>\n",
       "      <td>7</td>\n",
       "      <td>Single</td>\n",
       "      <td>2</td>\n",
       "      <td>5</td>\n",
       "    </tr>\n",
       "  </tbody>\n",
       "</table>\n",
       "</div>"
      ],
      "text/plain": [
       "     Student_ID  Age  Gender Academic_Level       Country  \\\n",
       "449         450   21    Male       Graduate        Canada   \n",
       "535         536   22    Male       Graduate      Malaysia   \n",
       "40           41   24    Male       Graduate  South Africa   \n",
       "91           92   19  Female  Undergraduate       Albania   \n",
       "174         175   20  Female  Undergraduate         Nepal   \n",
       "445         446   21    Male       Graduate        Turkey   \n",
       "585         586   23    Male       Graduate        Poland   \n",
       "301         302   21    Male       Graduate            UK   \n",
       "51           52   20  Female  Undergraduate      Paraguay   \n",
       "270         271   20  Female  Undergraduate     Australia   \n",
       "\n",
       "     Avg_Daily_Usage_Hours Most_Used_Platform Affects_Academic_Performance  \\\n",
       "449                    4.1          Instagram                          Yes   \n",
       "535                    5.8           WhatsApp                          Yes   \n",
       "40                     2.3           LinkedIn                           No   \n",
       "91                     4.7             TikTok                          Yes   \n",
       "174                    5.7             TikTok                          Yes   \n",
       "445                    4.3          Instagram                          Yes   \n",
       "585                    6.4           Facebook                          Yes   \n",
       "301                    4.8           Facebook                          Yes   \n",
       "51                     4.7             TikTok                          Yes   \n",
       "270                    4.5          Instagram                           No   \n",
       "\n",
       "     Sleep_Hours_Per_Night  Mental_Health_Score Relationship_Status  \\\n",
       "449                    8.1                    6              Single   \n",
       "535                    6.5                    6              Single   \n",
       "40                     7.3                    8     In Relationship   \n",
       "91                     5.8                    6         Complicated   \n",
       "174                    5.6                    6              Single   \n",
       "445                    7.9                    6              Single   \n",
       "585                    6.3                    5              Single   \n",
       "301                    6.8                    6     In Relationship   \n",
       "51                     5.8                    6     In Relationship   \n",
       "270                    7.3                    7              Single   \n",
       "\n",
       "     Conflicts_Over_Social_Media  Addicted_Score  \n",
       "449                            3               7  \n",
       "535                            3               7  \n",
       "40                             1               4  \n",
       "91                             3               7  \n",
       "174                            4               8  \n",
       "445                            3               7  \n",
       "585                            4               8  \n",
       "301                            3               7  \n",
       "51                             3               7  \n",
       "270                            2               5  "
      ]
     },
     "execution_count": 3,
     "metadata": {},
     "output_type": "execute_result"
    }
   ],
   "source": [
    "df.sample(10)"
   ]
  },
  {
   "cell_type": "code",
   "execution_count": 4,
   "id": "04084d8b-584d-41cb-8580-5b1a65875368",
   "metadata": {},
   "outputs": [
    {
     "name": "stdout",
     "output_type": "stream",
     "text": [
      "No of Rows & Columns : (705, 13)\n"
     ]
    }
   ],
   "source": [
    "print(\"No of Rows & Columns :\", df.shape)"
   ]
  },
  {
   "cell_type": "code",
   "execution_count": 5,
   "id": "9519674d-ba78-45b2-93ed-fe502f627201",
   "metadata": {},
   "outputs": [
    {
     "data": {
      "text/plain": [
       "Student_ID                        int64\n",
       "Age                               int64\n",
       "Gender                           object\n",
       "Academic_Level                   object\n",
       "Country                          object\n",
       "Avg_Daily_Usage_Hours           float64\n",
       "Most_Used_Platform               object\n",
       "Affects_Academic_Performance     object\n",
       "Sleep_Hours_Per_Night           float64\n",
       "Mental_Health_Score               int64\n",
       "Relationship_Status              object\n",
       "Conflicts_Over_Social_Media       int64\n",
       "Addicted_Score                    int64\n",
       "dtype: object"
      ]
     },
     "execution_count": 5,
     "metadata": {},
     "output_type": "execute_result"
    }
   ],
   "source": [
    "df.dtypes"
   ]
  },
  {
   "cell_type": "code",
   "execution_count": 6,
   "id": "33480336-25a9-4fd6-8d44-9528c62f51eb",
   "metadata": {},
   "outputs": [
    {
     "data": {
      "text/plain": [
       "Student_ID                      0\n",
       "Age                             0\n",
       "Gender                          0\n",
       "Academic_Level                  0\n",
       "Country                         0\n",
       "Avg_Daily_Usage_Hours           0\n",
       "Most_Used_Platform              0\n",
       "Affects_Academic_Performance    0\n",
       "Sleep_Hours_Per_Night           0\n",
       "Mental_Health_Score             0\n",
       "Relationship_Status             0\n",
       "Conflicts_Over_Social_Media     0\n",
       "Addicted_Score                  0\n",
       "dtype: int64"
      ]
     },
     "execution_count": 6,
     "metadata": {},
     "output_type": "execute_result"
    }
   ],
   "source": [
    "df.isnull().sum()"
   ]
  },
  {
   "cell_type": "code",
   "execution_count": 7,
   "id": "3bd43293-b1ec-46b4-b1f7-25cff9d1abcb",
   "metadata": {},
   "outputs": [
    {
     "data": {
      "text/html": [
       "<div>\n",
       "<style scoped>\n",
       "    .dataframe tbody tr th:only-of-type {\n",
       "        vertical-align: middle;\n",
       "    }\n",
       "\n",
       "    .dataframe tbody tr th {\n",
       "        vertical-align: top;\n",
       "    }\n",
       "\n",
       "    .dataframe thead th {\n",
       "        text-align: right;\n",
       "    }\n",
       "</style>\n",
       "<table border=\"1\" class=\"dataframe\">\n",
       "  <thead>\n",
       "    <tr style=\"text-align: right;\">\n",
       "      <th></th>\n",
       "      <th>Student_ID</th>\n",
       "      <th>Age</th>\n",
       "      <th>Avg_Daily_Usage_Hours</th>\n",
       "      <th>Sleep_Hours_Per_Night</th>\n",
       "      <th>Mental_Health_Score</th>\n",
       "      <th>Conflicts_Over_Social_Media</th>\n",
       "      <th>Addicted_Score</th>\n",
       "    </tr>\n",
       "  </thead>\n",
       "  <tbody>\n",
       "    <tr>\n",
       "      <th>count</th>\n",
       "      <td>705.000000</td>\n",
       "      <td>705.000000</td>\n",
       "      <td>705.000000</td>\n",
       "      <td>705.000000</td>\n",
       "      <td>705.000000</td>\n",
       "      <td>705.000000</td>\n",
       "      <td>705.000000</td>\n",
       "    </tr>\n",
       "    <tr>\n",
       "      <th>mean</th>\n",
       "      <td>353.000000</td>\n",
       "      <td>20.659574</td>\n",
       "      <td>4.918723</td>\n",
       "      <td>6.868936</td>\n",
       "      <td>6.226950</td>\n",
       "      <td>2.849645</td>\n",
       "      <td>6.436879</td>\n",
       "    </tr>\n",
       "    <tr>\n",
       "      <th>std</th>\n",
       "      <td>203.660256</td>\n",
       "      <td>1.399217</td>\n",
       "      <td>1.257395</td>\n",
       "      <td>1.126848</td>\n",
       "      <td>1.105055</td>\n",
       "      <td>0.957968</td>\n",
       "      <td>1.587165</td>\n",
       "    </tr>\n",
       "    <tr>\n",
       "      <th>min</th>\n",
       "      <td>1.000000</td>\n",
       "      <td>18.000000</td>\n",
       "      <td>1.500000</td>\n",
       "      <td>3.800000</td>\n",
       "      <td>4.000000</td>\n",
       "      <td>0.000000</td>\n",
       "      <td>2.000000</td>\n",
       "    </tr>\n",
       "    <tr>\n",
       "      <th>25%</th>\n",
       "      <td>177.000000</td>\n",
       "      <td>19.000000</td>\n",
       "      <td>4.100000</td>\n",
       "      <td>6.000000</td>\n",
       "      <td>5.000000</td>\n",
       "      <td>2.000000</td>\n",
       "      <td>5.000000</td>\n",
       "    </tr>\n",
       "    <tr>\n",
       "      <th>50%</th>\n",
       "      <td>353.000000</td>\n",
       "      <td>21.000000</td>\n",
       "      <td>4.800000</td>\n",
       "      <td>6.900000</td>\n",
       "      <td>6.000000</td>\n",
       "      <td>3.000000</td>\n",
       "      <td>7.000000</td>\n",
       "    </tr>\n",
       "    <tr>\n",
       "      <th>75%</th>\n",
       "      <td>529.000000</td>\n",
       "      <td>22.000000</td>\n",
       "      <td>5.800000</td>\n",
       "      <td>7.700000</td>\n",
       "      <td>7.000000</td>\n",
       "      <td>4.000000</td>\n",
       "      <td>8.000000</td>\n",
       "    </tr>\n",
       "    <tr>\n",
       "      <th>max</th>\n",
       "      <td>705.000000</td>\n",
       "      <td>24.000000</td>\n",
       "      <td>8.500000</td>\n",
       "      <td>9.600000</td>\n",
       "      <td>9.000000</td>\n",
       "      <td>5.000000</td>\n",
       "      <td>9.000000</td>\n",
       "    </tr>\n",
       "  </tbody>\n",
       "</table>\n",
       "</div>"
      ],
      "text/plain": [
       "       Student_ID         Age  Avg_Daily_Usage_Hours  Sleep_Hours_Per_Night  \\\n",
       "count  705.000000  705.000000             705.000000             705.000000   \n",
       "mean   353.000000   20.659574               4.918723               6.868936   \n",
       "std    203.660256    1.399217               1.257395               1.126848   \n",
       "min      1.000000   18.000000               1.500000               3.800000   \n",
       "25%    177.000000   19.000000               4.100000               6.000000   \n",
       "50%    353.000000   21.000000               4.800000               6.900000   \n",
       "75%    529.000000   22.000000               5.800000               7.700000   \n",
       "max    705.000000   24.000000               8.500000               9.600000   \n",
       "\n",
       "       Mental_Health_Score  Conflicts_Over_Social_Media  Addicted_Score  \n",
       "count           705.000000                   705.000000      705.000000  \n",
       "mean              6.226950                     2.849645        6.436879  \n",
       "std               1.105055                     0.957968        1.587165  \n",
       "min               4.000000                     0.000000        2.000000  \n",
       "25%               5.000000                     2.000000        5.000000  \n",
       "50%               6.000000                     3.000000        7.000000  \n",
       "75%               7.000000                     4.000000        8.000000  \n",
       "max               9.000000                     5.000000        9.000000  "
      ]
     },
     "execution_count": 7,
     "metadata": {},
     "output_type": "execute_result"
    }
   ],
   "source": [
    "df.describe()"
   ]
  },
  {
   "cell_type": "markdown",
   "id": "a8e26fb0-c6f9-4b36-bae0-17746b5b5706",
   "metadata": {},
   "source": [
    "This section offers a comprehensive initial exploration of the dataset, highlighting its structure, data types, and a sample of entries. \n",
    "It also checks for missing values and provides basic statistical insights to understand the data distribution.\n",
    "\n"
   ]
  },
  {
   "cell_type": "markdown",
   "id": "46786a41-f61f-4ee3-b7f3-9c7c9cf7c179",
   "metadata": {},
   "source": [
    "####       Data Cleaning\n"
   ]
  },
  {
   "cell_type": "code",
   "execution_count": 8,
   "id": "91627c7f-db2c-4692-98b9-d3b961486db6",
   "metadata": {},
   "outputs": [
    {
     "data": {
      "text/plain": [
       "Student_ID                      705\n",
       "Age                               7\n",
       "Gender                            2\n",
       "Academic_Level                    3\n",
       "Country                         110\n",
       "Avg_Daily_Usage_Hours            67\n",
       "Most_Used_Platform               12\n",
       "Affects_Academic_Performance      2\n",
       "Sleep_Hours_Per_Night            59\n",
       "Mental_Health_Score               6\n",
       "Relationship_Status               3\n",
       "Conflicts_Over_Social_Media       6\n",
       "Addicted_Score                    8\n",
       "dtype: int64"
      ]
     },
     "execution_count": 8,
     "metadata": {},
     "output_type": "execute_result"
    }
   ],
   "source": [
    "df.nunique()"
   ]
  },
  {
   "cell_type": "code",
   "execution_count": 9,
   "id": "a4382777-d5ee-4d39-bdff-35627cf1131b",
   "metadata": {},
   "outputs": [
    {
     "data": {
      "text/plain": [
       "False"
      ]
     },
     "execution_count": 9,
     "metadata": {},
     "output_type": "execute_result"
    }
   ],
   "source": [
    "df.duplicated().any()\n"
   ]
  },
  {
   "cell_type": "code",
   "execution_count": 10,
   "id": "40528bda-be7f-4a79-a765-af4df9f6f6e5",
   "metadata": {},
   "outputs": [
    {
     "name": "stdout",
     "output_type": "stream",
     "text": [
      "\n",
      "Unique values in 'Academic_Level':\n",
      "['Undergraduate' 'Graduate' 'High School']\n",
      "\n",
      "Unique values in 'Country':\n",
      "['Bangladesh' 'India' 'USA' 'UK' 'Canada' 'Australia' 'Germany' 'Brazil'\n",
      " 'Japan' 'South Korea' 'France' 'Spain' 'Italy' 'Mexico' 'Russia' 'China'\n",
      " 'Sweden' 'Norway' 'Denmark' 'Netherlands' 'Belgium' 'Switzerland'\n",
      " 'Austria' 'Portugal' 'Greece' 'Ireland' 'New Zealand' 'Singapore'\n",
      " 'Malaysia' 'Thailand' 'Vietnam' 'Philippines' 'Indonesia' 'Taiwan'\n",
      " 'Hong Kong' 'Turkey' 'Israel' 'UAE' 'Egypt' 'Morocco' 'South Africa'\n",
      " 'Nigeria' 'Kenya' 'Ghana' 'Argentina' 'Chile' 'Colombia' 'Peru'\n",
      " 'Venezuela' 'Ecuador' 'Uruguay' 'Paraguay' 'Bolivia' 'Costa Rica'\n",
      " 'Panama' 'Jamaica' 'Trinidad' 'Bahamas' 'Iceland' 'Finland' 'Poland'\n",
      " 'Romania' 'Hungary' 'Czech Republic' 'Slovakia' 'Croatia' 'Serbia'\n",
      " 'Slovenia' 'Bulgaria' 'Estonia' 'Latvia' 'Lithuania' 'Ukraine' 'Moldova'\n",
      " 'Belarus' 'Kazakhstan' 'Uzbekistan' 'Kyrgyzstan' 'Tajikistan' 'Armenia'\n",
      " 'Georgia' 'Azerbaijan' 'Cyprus' 'Malta' 'Luxembourg' 'Monaco' 'Andorra'\n",
      " 'San Marino' 'Vatican City' 'Liechtenstein' 'Montenegro' 'Albania'\n",
      " 'North Macedonia' 'Kosovo' 'Bosnia' 'Qatar' 'Kuwait' 'Bahrain' 'Oman'\n",
      " 'Jordan' 'Lebanon' 'Iraq' 'Yemen' 'Syria' 'Afghanistan' 'Pakistan'\n",
      " 'Nepal' 'Bhutan' 'Sri Lanka' 'Maldives']\n",
      "\n",
      "Unique values in 'Most_Used_Platform':\n",
      "['Instagram' 'Twitter' 'TikTok' 'YouTube' 'Facebook' 'LinkedIn' 'Snapchat'\n",
      " 'LINE' 'KakaoTalk' 'VKontakte' 'WhatsApp' 'WeChat']\n",
      "\n",
      "Unique values in 'Affects_Academic_Performance':\n",
      "['Yes' 'No']\n",
      "\n",
      "Unique values in 'Relationship_Status':\n",
      "['In Relationship' 'Single' 'Complicated']\n"
     ]
    }
   ],
   "source": [
    "columns = [\n",
    "    \"Academic_Level\",\n",
    "    \"Country\",\n",
    "    \"Most_Used_Platform\",\n",
    "    \"Affects_Academic_Performance\",\n",
    "    \"Relationship_Status\"\n",
    "]\n",
    "\n",
    "for col in columns:\n",
    "    print(f\"\\nUnique values in '{col}':\")\n",
    "    print(df[col].unique())\n"
   ]
  },
  {
   "cell_type": "code",
   "execution_count": 11,
   "id": "d1bb9cb7-3a61-496b-b5ee-33571f5ff17e",
   "metadata": {},
   "outputs": [],
   "source": [
    "df['Country'] = df['Country'].replace({'USA':'United States of America','UK' :'United Kingdom', 'UAE' : 'United Arab Emirates'})"
   ]
  },
  {
   "cell_type": "code",
   "execution_count": 12,
   "id": "596c0808-d42b-4aa4-ab11-ba19a628fe24",
   "metadata": {},
   "outputs": [
    {
     "name": "stdout",
     "output_type": "stream",
     "text": [
      "\n",
      "Unique values in 'Academic_Level':\n",
      "['Undergraduate' 'Graduate' 'High School']\n",
      "\n",
      "Unique values in 'Country':\n",
      "['Bangladesh' 'India' 'United States of America' 'United Kingdom' 'Canada'\n",
      " 'Australia' 'Germany' 'Brazil' 'Japan' 'South Korea' 'France' 'Spain'\n",
      " 'Italy' 'Mexico' 'Russia' 'China' 'Sweden' 'Norway' 'Denmark'\n",
      " 'Netherlands' 'Belgium' 'Switzerland' 'Austria' 'Portugal' 'Greece'\n",
      " 'Ireland' 'New Zealand' 'Singapore' 'Malaysia' 'Thailand' 'Vietnam'\n",
      " 'Philippines' 'Indonesia' 'Taiwan' 'Hong Kong' 'Turkey' 'Israel'\n",
      " 'United Arab Emirates' 'Egypt' 'Morocco' 'South Africa' 'Nigeria' 'Kenya'\n",
      " 'Ghana' 'Argentina' 'Chile' 'Colombia' 'Peru' 'Venezuela' 'Ecuador'\n",
      " 'Uruguay' 'Paraguay' 'Bolivia' 'Costa Rica' 'Panama' 'Jamaica' 'Trinidad'\n",
      " 'Bahamas' 'Iceland' 'Finland' 'Poland' 'Romania' 'Hungary'\n",
      " 'Czech Republic' 'Slovakia' 'Croatia' 'Serbia' 'Slovenia' 'Bulgaria'\n",
      " 'Estonia' 'Latvia' 'Lithuania' 'Ukraine' 'Moldova' 'Belarus' 'Kazakhstan'\n",
      " 'Uzbekistan' 'Kyrgyzstan' 'Tajikistan' 'Armenia' 'Georgia' 'Azerbaijan'\n",
      " 'Cyprus' 'Malta' 'Luxembourg' 'Monaco' 'Andorra' 'San Marino'\n",
      " 'Vatican City' 'Liechtenstein' 'Montenegro' 'Albania' 'North Macedonia'\n",
      " 'Kosovo' 'Bosnia' 'Qatar' 'Kuwait' 'Bahrain' 'Oman' 'Jordan' 'Lebanon'\n",
      " 'Iraq' 'Yemen' 'Syria' 'Afghanistan' 'Pakistan' 'Nepal' 'Bhutan'\n",
      " 'Sri Lanka' 'Maldives']\n",
      "\n",
      "Unique values in 'Most_Used_Platform':\n",
      "['Instagram' 'Twitter' 'TikTok' 'YouTube' 'Facebook' 'LinkedIn' 'Snapchat'\n",
      " 'LINE' 'KakaoTalk' 'VKontakte' 'WhatsApp' 'WeChat']\n",
      "\n",
      "Unique values in 'Affects_Academic_Performance':\n",
      "['Yes' 'No']\n",
      "\n",
      "Unique values in 'Relationship_Status':\n",
      "['In Relationship' 'Single' 'Complicated']\n"
     ]
    }
   ],
   "source": [
    "columns = [\n",
    "    \"Academic_Level\",\n",
    "    \"Country\",\n",
    "    \"Most_Used_Platform\",\n",
    "    \"Affects_Academic_Performance\",\n",
    "    \"Relationship_Status\"\n",
    "]\n",
    "\n",
    "for col in columns:\n",
    "    print(f\"\\nUnique values in '{col}':\")\n",
    "    print(df[col].unique())\n"
   ]
  },
  {
   "cell_type": "code",
   "execution_count": 13,
   "id": "b0c94627-edbf-4f61-a81e-26e83b060a88",
   "metadata": {},
   "outputs": [
    {
     "name": "stdout",
     "output_type": "stream",
     "text": [
      "['BD' 'IN' 'US' 'GB' 'CA' 'AU' 'DE' 'BR' 'JP' 'KR' 'FR' 'ES' 'IT' 'MX'\n",
      " 'RU' 'CN' 'SE' 'NO' 'DK' 'NL' 'BE' 'CH' 'AT' 'PT' 'GR' 'IE' 'NZ' 'SG'\n",
      " 'MY' 'TH' 'VN' 'PH' 'ID' 'TW' 'HK' 'TR' 'IL' 'AE' 'EG' 'MA' 'ZA' 'NG'\n",
      " 'KE' 'GH' 'AR' 'CL' 'CO' 'PE' 'VE' 'EC' 'UY' 'PY' 'BO' 'CR' 'PA' 'JM'\n",
      " 'TT' 'BS' 'IS' 'FI' 'PL' 'RO' 'HU' 'CZ' 'SK' 'HR' 'RS' 'SI' 'BG' 'EE'\n",
      " 'LV' 'LT' 'UA' 'MD' 'BY' 'KZ' 'UZ' 'KG' 'TJ' 'AM' 'GE' 'AZ' 'CY' 'MT'\n",
      " 'LU' 'MC' 'AD' 'SM' 'VA' 'LI' 'ME' 'AL' 'MK' 'XK' 'BA' 'QA' 'KW' 'BH'\n",
      " 'OM' 'JO' 'LB' 'IQ' 'YE' 'SY' 'AF' 'PK' 'NP' 'BT' 'LK' 'MV']\n"
     ]
    }
   ],
   "source": [
    "CountryCode = {\n",
    "    'Bangladesh': 'BD',\n",
    "    'India': 'IN',\n",
    "    'United States of America': 'US',\n",
    "    'United Kingdom': 'GB',\n",
    "    'Canada': 'CA',\n",
    "    'Australia': 'AU',\n",
    "    'Germany': 'DE',\n",
    "    'Brazil': 'BR',\n",
    "    'Japan': 'JP',\n",
    "    'South Korea': 'KR',\n",
    "    'France': 'FR',\n",
    "    'Spain': 'ES',\n",
    "    'Italy': 'IT',\n",
    "    'Mexico': 'MX',\n",
    "    'Russia': 'RU',\n",
    "    'China': 'CN',\n",
    "    'Sweden': 'SE',\n",
    "    'Norway': 'NO',\n",
    "    'Denmark': 'DK',\n",
    "    'Netherlands': 'NL',\n",
    "    'Belgium': 'BE',\n",
    "    'Switzerland': 'CH',\n",
    "    'Austria': 'AT',\n",
    "    'Portugal': 'PT',\n",
    "    'Greece': 'GR',\n",
    "    'Ireland': 'IE',\n",
    "    'New Zealand': 'NZ',\n",
    "    'Singapore': 'SG',\n",
    "    'Malaysia': 'MY',\n",
    "    'Thailand': 'TH',\n",
    "    'Vietnam': 'VN',\n",
    "    'Philippines': 'PH',\n",
    "    'Indonesia': 'ID',\n",
    "    'Taiwan': 'TW',\n",
    "    'Hong Kong': 'HK',\n",
    "    'Turkey': 'TR',\n",
    "    'Israel': 'IL',\n",
    "    'United Arab Emirates': 'AE',\n",
    "    'Egypt': 'EG',\n",
    "    'Morocco': 'MA',\n",
    "    'South Africa': 'ZA',\n",
    "    'Nigeria': 'NG',\n",
    "    'Kenya': 'KE',\n",
    "    'Ghana': 'GH',\n",
    "    'Argentina': 'AR',\n",
    "    'Chile': 'CL',\n",
    "    'Colombia': 'CO',\n",
    "    'Peru': 'PE',\n",
    "    'Venezuela': 'VE',\n",
    "    'Ecuador': 'EC',\n",
    "    'Uruguay': 'UY',\n",
    "    'Paraguay': 'PY',\n",
    "    'Bolivia': 'BO',\n",
    "    'Costa Rica': 'CR',\n",
    "    'Panama': 'PA',\n",
    "    'Jamaica': 'JM',\n",
    "    'Trinidad': 'TT', \n",
    "    'Bahamas': 'BS',\n",
    "    'Iceland': 'IS',\n",
    "    'Finland': 'FI',\n",
    "    'Poland': 'PL',\n",
    "    'Romania': 'RO',\n",
    "    'Hungary': 'HU',\n",
    "    'Czech Republic': 'CZ',\n",
    "    'Slovakia': 'SK',\n",
    "    'Croatia': 'HR',\n",
    "    'Serbia': 'RS',\n",
    "    'Slovenia': 'SI',\n",
    "    'Bulgaria': 'BG',\n",
    "    'Estonia': 'EE',\n",
    "    'Latvia': 'LV',\n",
    "    'Lithuania': 'LT',\n",
    "    'Ukraine': 'UA',\n",
    "    'Moldova': 'MD',\n",
    "    'Belarus': 'BY',\n",
    "    'Kazakhstan': 'KZ',\n",
    "    'Uzbekistan': 'UZ',\n",
    "    'Kyrgyzstan': 'KG',\n",
    "    'Tajikistan': 'TJ',\n",
    "    'Armenia': 'AM',\n",
    "    'Georgia': 'GE',\n",
    "    'Azerbaijan': 'AZ',\n",
    "    'Cyprus': 'CY',\n",
    "    'Malta': 'MT',\n",
    "    'Luxembourg': 'LU',\n",
    "    'Monaco': 'MC',\n",
    "    'Andorra': 'AD',\n",
    "    'San Marino': 'SM',\n",
    "    'Vatican City': 'VA',\n",
    "    'Liechtenstein': 'LI',\n",
    "    'Montenegro': 'ME',\n",
    "    'Albania': 'AL',\n",
    "    'North Macedonia': 'MK',\n",
    "    'Kosovo': 'XK',\n",
    "    'Bosnia': 'BA',\n",
    "    'Qatar': 'QA',\n",
    "    'Kuwait': 'KW',\n",
    "    'Bahrain': 'BH',\n",
    "    'Oman': 'OM',\n",
    "    'Jordan': 'JO',\n",
    "    'Lebanon': 'LB',\n",
    "    'Iraq': 'IQ',\n",
    "    'Yemen': 'YE',\n",
    "    'Syria': 'SY',\n",
    "    'Afghanistan': 'AF',\n",
    "    'Pakistan': 'PK',\n",
    "    'Nepal': 'NP',\n",
    "    'Bhutan': 'BT',\n",
    "    'Sri Lanka': 'LK',\n",
    "    'Maldives': 'MV'\n",
    "}\n",
    "df['CountryCode'] = df['Country'].map(CountryCode)\n",
    "print(df['CountryCode'].unique())\n"
   ]
  },
  {
   "cell_type": "code",
   "execution_count": 14,
   "id": "0674586b-f98c-4142-bb62-adadeaf7f96c",
   "metadata": {},
   "outputs": [
    {
     "data": {
      "text/html": [
       "<div>\n",
       "<style scoped>\n",
       "    .dataframe tbody tr th:only-of-type {\n",
       "        vertical-align: middle;\n",
       "    }\n",
       "\n",
       "    .dataframe tbody tr th {\n",
       "        vertical-align: top;\n",
       "    }\n",
       "\n",
       "    .dataframe thead th {\n",
       "        text-align: right;\n",
       "    }\n",
       "</style>\n",
       "<table border=\"1\" class=\"dataframe\">\n",
       "  <thead>\n",
       "    <tr style=\"text-align: right;\">\n",
       "      <th></th>\n",
       "      <th>Student_ID</th>\n",
       "      <th>Age</th>\n",
       "      <th>Gender</th>\n",
       "      <th>Academic_Level</th>\n",
       "      <th>Country</th>\n",
       "      <th>Avg_Daily_Usage_Hours</th>\n",
       "      <th>Most_Used_Platform</th>\n",
       "      <th>Affects_Academic_Performance</th>\n",
       "      <th>Sleep_Hours_Per_Night</th>\n",
       "      <th>Mental_Health_Score</th>\n",
       "      <th>Relationship_Status</th>\n",
       "      <th>Conflicts_Over_Social_Media</th>\n",
       "      <th>Addicted_Score</th>\n",
       "      <th>CountryCode</th>\n",
       "    </tr>\n",
       "  </thead>\n",
       "  <tbody>\n",
       "    <tr>\n",
       "      <th>441</th>\n",
       "      <td>442</td>\n",
       "      <td>21</td>\n",
       "      <td>Male</td>\n",
       "      <td>Graduate</td>\n",
       "      <td>Denmark</td>\n",
       "      <td>2.8</td>\n",
       "      <td>Facebook</td>\n",
       "      <td>No</td>\n",
       "      <td>9.0</td>\n",
       "      <td>8</td>\n",
       "      <td>In Relationship</td>\n",
       "      <td>2</td>\n",
       "      <td>4</td>\n",
       "      <td>DK</td>\n",
       "    </tr>\n",
       "    <tr>\n",
       "      <th>165</th>\n",
       "      <td>166</td>\n",
       "      <td>21</td>\n",
       "      <td>Male</td>\n",
       "      <td>Graduate</td>\n",
       "      <td>Maldives</td>\n",
       "      <td>5.4</td>\n",
       "      <td>TikTok</td>\n",
       "      <td>Yes</td>\n",
       "      <td>6.0</td>\n",
       "      <td>6</td>\n",
       "      <td>In Relationship</td>\n",
       "      <td>4</td>\n",
       "      <td>8</td>\n",
       "      <td>MV</td>\n",
       "    </tr>\n",
       "    <tr>\n",
       "      <th>683</th>\n",
       "      <td>684</td>\n",
       "      <td>23</td>\n",
       "      <td>Male</td>\n",
       "      <td>Graduate</td>\n",
       "      <td>Italy</td>\n",
       "      <td>4.8</td>\n",
       "      <td>Facebook</td>\n",
       "      <td>No</td>\n",
       "      <td>7.1</td>\n",
       "      <td>7</td>\n",
       "      <td>In Relationship</td>\n",
       "      <td>2</td>\n",
       "      <td>5</td>\n",
       "      <td>IT</td>\n",
       "    </tr>\n",
       "    <tr>\n",
       "      <th>548</th>\n",
       "      <td>549</td>\n",
       "      <td>19</td>\n",
       "      <td>Female</td>\n",
       "      <td>Undergraduate</td>\n",
       "      <td>India</td>\n",
       "      <td>7.2</td>\n",
       "      <td>WhatsApp</td>\n",
       "      <td>Yes</td>\n",
       "      <td>5.6</td>\n",
       "      <td>5</td>\n",
       "      <td>In Relationship</td>\n",
       "      <td>4</td>\n",
       "      <td>8</td>\n",
       "      <td>IN</td>\n",
       "    </tr>\n",
       "    <tr>\n",
       "      <th>232</th>\n",
       "      <td>233</td>\n",
       "      <td>19</td>\n",
       "      <td>Female</td>\n",
       "      <td>Undergraduate</td>\n",
       "      <td>Japan</td>\n",
       "      <td>3.5</td>\n",
       "      <td>LINE</td>\n",
       "      <td>No</td>\n",
       "      <td>8.0</td>\n",
       "      <td>8</td>\n",
       "      <td>Single</td>\n",
       "      <td>1</td>\n",
       "      <td>3</td>\n",
       "      <td>JP</td>\n",
       "    </tr>\n",
       "    <tr>\n",
       "      <th>14</th>\n",
       "      <td>15</td>\n",
       "      <td>21</td>\n",
       "      <td>Male</td>\n",
       "      <td>Undergraduate</td>\n",
       "      <td>Russia</td>\n",
       "      <td>3.7</td>\n",
       "      <td>YouTube</td>\n",
       "      <td>No</td>\n",
       "      <td>6.8</td>\n",
       "      <td>7</td>\n",
       "      <td>In Relationship</td>\n",
       "      <td>2</td>\n",
       "      <td>5</td>\n",
       "      <td>RU</td>\n",
       "    </tr>\n",
       "    <tr>\n",
       "      <th>410</th>\n",
       "      <td>411</td>\n",
       "      <td>20</td>\n",
       "      <td>Female</td>\n",
       "      <td>Undergraduate</td>\n",
       "      <td>Spain</td>\n",
       "      <td>4.3</td>\n",
       "      <td>TikTok</td>\n",
       "      <td>Yes</td>\n",
       "      <td>7.6</td>\n",
       "      <td>6</td>\n",
       "      <td>Single</td>\n",
       "      <td>3</td>\n",
       "      <td>7</td>\n",
       "      <td>ES</td>\n",
       "    </tr>\n",
       "    <tr>\n",
       "      <th>510</th>\n",
       "      <td>511</td>\n",
       "      <td>20</td>\n",
       "      <td>Female</td>\n",
       "      <td>Undergraduate</td>\n",
       "      <td>Brazil</td>\n",
       "      <td>6.1</td>\n",
       "      <td>Instagram</td>\n",
       "      <td>Yes</td>\n",
       "      <td>6.4</td>\n",
       "      <td>6</td>\n",
       "      <td>Single</td>\n",
       "      <td>3</td>\n",
       "      <td>7</td>\n",
       "      <td>BR</td>\n",
       "    </tr>\n",
       "    <tr>\n",
       "      <th>482</th>\n",
       "      <td>483</td>\n",
       "      <td>20</td>\n",
       "      <td>Female</td>\n",
       "      <td>Undergraduate</td>\n",
       "      <td>Ireland</td>\n",
       "      <td>3.3</td>\n",
       "      <td>TikTok</td>\n",
       "      <td>Yes</td>\n",
       "      <td>8.6</td>\n",
       "      <td>7</td>\n",
       "      <td>Single</td>\n",
       "      <td>3</td>\n",
       "      <td>6</td>\n",
       "      <td>IE</td>\n",
       "    </tr>\n",
       "    <tr>\n",
       "      <th>202</th>\n",
       "      <td>203</td>\n",
       "      <td>20</td>\n",
       "      <td>Female</td>\n",
       "      <td>Undergraduate</td>\n",
       "      <td>Bangladesh</td>\n",
       "      <td>4.3</td>\n",
       "      <td>Instagram</td>\n",
       "      <td>Yes</td>\n",
       "      <td>7.6</td>\n",
       "      <td>5</td>\n",
       "      <td>Single</td>\n",
       "      <td>3</td>\n",
       "      <td>7</td>\n",
       "      <td>BD</td>\n",
       "    </tr>\n",
       "  </tbody>\n",
       "</table>\n",
       "</div>"
      ],
      "text/plain": [
       "     Student_ID  Age  Gender Academic_Level     Country  \\\n",
       "441         442   21    Male       Graduate     Denmark   \n",
       "165         166   21    Male       Graduate    Maldives   \n",
       "683         684   23    Male       Graduate       Italy   \n",
       "548         549   19  Female  Undergraduate       India   \n",
       "232         233   19  Female  Undergraduate       Japan   \n",
       "14           15   21    Male  Undergraduate      Russia   \n",
       "410         411   20  Female  Undergraduate       Spain   \n",
       "510         511   20  Female  Undergraduate      Brazil   \n",
       "482         483   20  Female  Undergraduate     Ireland   \n",
       "202         203   20  Female  Undergraduate  Bangladesh   \n",
       "\n",
       "     Avg_Daily_Usage_Hours Most_Used_Platform Affects_Academic_Performance  \\\n",
       "441                    2.8           Facebook                           No   \n",
       "165                    5.4             TikTok                          Yes   \n",
       "683                    4.8           Facebook                           No   \n",
       "548                    7.2           WhatsApp                          Yes   \n",
       "232                    3.5               LINE                           No   \n",
       "14                     3.7            YouTube                           No   \n",
       "410                    4.3             TikTok                          Yes   \n",
       "510                    6.1          Instagram                          Yes   \n",
       "482                    3.3             TikTok                          Yes   \n",
       "202                    4.3          Instagram                          Yes   \n",
       "\n",
       "     Sleep_Hours_Per_Night  Mental_Health_Score Relationship_Status  \\\n",
       "441                    9.0                    8     In Relationship   \n",
       "165                    6.0                    6     In Relationship   \n",
       "683                    7.1                    7     In Relationship   \n",
       "548                    5.6                    5     In Relationship   \n",
       "232                    8.0                    8              Single   \n",
       "14                     6.8                    7     In Relationship   \n",
       "410                    7.6                    6              Single   \n",
       "510                    6.4                    6              Single   \n",
       "482                    8.6                    7              Single   \n",
       "202                    7.6                    5              Single   \n",
       "\n",
       "     Conflicts_Over_Social_Media  Addicted_Score CountryCode  \n",
       "441                            2               4          DK  \n",
       "165                            4               8          MV  \n",
       "683                            2               5          IT  \n",
       "548                            4               8          IN  \n",
       "232                            1               3          JP  \n",
       "14                             2               5          RU  \n",
       "410                            3               7          ES  \n",
       "510                            3               7          BR  \n",
       "482                            3               6          IE  \n",
       "202                            3               7          BD  "
      ]
     },
     "execution_count": 14,
     "metadata": {},
     "output_type": "execute_result"
    }
   ],
   "source": [
    "df.sample(10)"
   ]
  },
  {
   "cell_type": "code",
   "execution_count": 15,
   "id": "0f15d8a0-decf-4321-be90-efd59737889c",
   "metadata": {},
   "outputs": [
    {
     "data": {
      "text/html": [
       "<div>\n",
       "<style scoped>\n",
       "    .dataframe tbody tr th:only-of-type {\n",
       "        vertical-align: middle;\n",
       "    }\n",
       "\n",
       "    .dataframe tbody tr th {\n",
       "        vertical-align: top;\n",
       "    }\n",
       "\n",
       "    .dataframe thead th {\n",
       "        text-align: right;\n",
       "    }\n",
       "</style>\n",
       "<table border=\"1\" class=\"dataframe\">\n",
       "  <thead>\n",
       "    <tr style=\"text-align: right;\">\n",
       "      <th></th>\n",
       "      <th>Student_ID</th>\n",
       "      <th>Age</th>\n",
       "      <th>Gender</th>\n",
       "      <th>Academic_Level</th>\n",
       "      <th>Country</th>\n",
       "      <th>CountryCode</th>\n",
       "      <th>Avg_Daily_Usage_Hours</th>\n",
       "      <th>Most_Used_Platform</th>\n",
       "      <th>Affects_Academic_Performance</th>\n",
       "      <th>Sleep_Hours_Per_Night</th>\n",
       "      <th>Mental_Health_Score</th>\n",
       "      <th>Relationship_Status</th>\n",
       "      <th>Conflicts_Over_Social_Media</th>\n",
       "      <th>Addicted_Score</th>\n",
       "    </tr>\n",
       "  </thead>\n",
       "  <tbody>\n",
       "    <tr>\n",
       "      <th>631</th>\n",
       "      <td>632</td>\n",
       "      <td>21</td>\n",
       "      <td>Male</td>\n",
       "      <td>Undergraduate</td>\n",
       "      <td>United Kingdom</td>\n",
       "      <td>GB</td>\n",
       "      <td>6.2</td>\n",
       "      <td>Facebook</td>\n",
       "      <td>Yes</td>\n",
       "      <td>6.3</td>\n",
       "      <td>5</td>\n",
       "      <td>Single</td>\n",
       "      <td>4</td>\n",
       "      <td>8</td>\n",
       "    </tr>\n",
       "    <tr>\n",
       "      <th>62</th>\n",
       "      <td>63</td>\n",
       "      <td>20</td>\n",
       "      <td>Male</td>\n",
       "      <td>Undergraduate</td>\n",
       "      <td>Hungary</td>\n",
       "      <td>HU</td>\n",
       "      <td>4.2</td>\n",
       "      <td>TikTok</td>\n",
       "      <td>Yes</td>\n",
       "      <td>6.0</td>\n",
       "      <td>6</td>\n",
       "      <td>Complicated</td>\n",
       "      <td>3</td>\n",
       "      <td>7</td>\n",
       "    </tr>\n",
       "    <tr>\n",
       "      <th>423</th>\n",
       "      <td>424</td>\n",
       "      <td>22</td>\n",
       "      <td>Male</td>\n",
       "      <td>Graduate</td>\n",
       "      <td>India</td>\n",
       "      <td>IN</td>\n",
       "      <td>6.8</td>\n",
       "      <td>WhatsApp</td>\n",
       "      <td>Yes</td>\n",
       "      <td>5.5</td>\n",
       "      <td>5</td>\n",
       "      <td>In Relationship</td>\n",
       "      <td>4</td>\n",
       "      <td>8</td>\n",
       "    </tr>\n",
       "    <tr>\n",
       "      <th>264</th>\n",
       "      <td>265</td>\n",
       "      <td>19</td>\n",
       "      <td>Female</td>\n",
       "      <td>Undergraduate</td>\n",
       "      <td>Japan</td>\n",
       "      <td>JP</td>\n",
       "      <td>3.3</td>\n",
       "      <td>LINE</td>\n",
       "      <td>No</td>\n",
       "      <td>8.3</td>\n",
       "      <td>8</td>\n",
       "      <td>Single</td>\n",
       "      <td>1</td>\n",
       "      <td>3</td>\n",
       "    </tr>\n",
       "    <tr>\n",
       "      <th>571</th>\n",
       "      <td>572</td>\n",
       "      <td>23</td>\n",
       "      <td>Male</td>\n",
       "      <td>Graduate</td>\n",
       "      <td>Denmark</td>\n",
       "      <td>DK</td>\n",
       "      <td>3.8</td>\n",
       "      <td>Twitter</td>\n",
       "      <td>No</td>\n",
       "      <td>7.8</td>\n",
       "      <td>8</td>\n",
       "      <td>In Relationship</td>\n",
       "      <td>2</td>\n",
       "      <td>4</td>\n",
       "    </tr>\n",
       "    <tr>\n",
       "      <th>602</th>\n",
       "      <td>603</td>\n",
       "      <td>23</td>\n",
       "      <td>Female</td>\n",
       "      <td>Graduate</td>\n",
       "      <td>Poland</td>\n",
       "      <td>PL</td>\n",
       "      <td>6.2</td>\n",
       "      <td>Instagram</td>\n",
       "      <td>Yes</td>\n",
       "      <td>6.4</td>\n",
       "      <td>5</td>\n",
       "      <td>Single</td>\n",
       "      <td>4</td>\n",
       "      <td>8</td>\n",
       "    </tr>\n",
       "    <tr>\n",
       "      <th>456</th>\n",
       "      <td>457</td>\n",
       "      <td>19</td>\n",
       "      <td>Female</td>\n",
       "      <td>Undergraduate</td>\n",
       "      <td>United States of America</td>\n",
       "      <td>US</td>\n",
       "      <td>8.1</td>\n",
       "      <td>Instagram</td>\n",
       "      <td>Yes</td>\n",
       "      <td>4.2</td>\n",
       "      <td>5</td>\n",
       "      <td>In Relationship</td>\n",
       "      <td>4</td>\n",
       "      <td>9</td>\n",
       "    </tr>\n",
       "    <tr>\n",
       "      <th>64</th>\n",
       "      <td>65</td>\n",
       "      <td>23</td>\n",
       "      <td>Male</td>\n",
       "      <td>Graduate</td>\n",
       "      <td>Slovakia</td>\n",
       "      <td>SK</td>\n",
       "      <td>2.3</td>\n",
       "      <td>LinkedIn</td>\n",
       "      <td>No</td>\n",
       "      <td>7.4</td>\n",
       "      <td>8</td>\n",
       "      <td>In Relationship</td>\n",
       "      <td>1</td>\n",
       "      <td>3</td>\n",
       "    </tr>\n",
       "    <tr>\n",
       "      <th>688</th>\n",
       "      <td>689</td>\n",
       "      <td>20</td>\n",
       "      <td>Female</td>\n",
       "      <td>Undergraduate</td>\n",
       "      <td>Finland</td>\n",
       "      <td>FI</td>\n",
       "      <td>4.4</td>\n",
       "      <td>Instagram</td>\n",
       "      <td>No</td>\n",
       "      <td>7.4</td>\n",
       "      <td>7</td>\n",
       "      <td>In Relationship</td>\n",
       "      <td>2</td>\n",
       "      <td>5</td>\n",
       "    </tr>\n",
       "    <tr>\n",
       "      <th>97</th>\n",
       "      <td>98</td>\n",
       "      <td>22</td>\n",
       "      <td>Female</td>\n",
       "      <td>Graduate</td>\n",
       "      <td>Bahrain</td>\n",
       "      <td>BH</td>\n",
       "      <td>2.8</td>\n",
       "      <td>LinkedIn</td>\n",
       "      <td>No</td>\n",
       "      <td>7.1</td>\n",
       "      <td>8</td>\n",
       "      <td>Complicated</td>\n",
       "      <td>1</td>\n",
       "      <td>4</td>\n",
       "    </tr>\n",
       "  </tbody>\n",
       "</table>\n",
       "</div>"
      ],
      "text/plain": [
       "     Student_ID  Age  Gender Academic_Level                   Country  \\\n",
       "631         632   21    Male  Undergraduate            United Kingdom   \n",
       "62           63   20    Male  Undergraduate                   Hungary   \n",
       "423         424   22    Male       Graduate                     India   \n",
       "264         265   19  Female  Undergraduate                     Japan   \n",
       "571         572   23    Male       Graduate                   Denmark   \n",
       "602         603   23  Female       Graduate                    Poland   \n",
       "456         457   19  Female  Undergraduate  United States of America   \n",
       "64           65   23    Male       Graduate                  Slovakia   \n",
       "688         689   20  Female  Undergraduate                   Finland   \n",
       "97           98   22  Female       Graduate                   Bahrain   \n",
       "\n",
       "    CountryCode  Avg_Daily_Usage_Hours Most_Used_Platform  \\\n",
       "631          GB                    6.2           Facebook   \n",
       "62           HU                    4.2             TikTok   \n",
       "423          IN                    6.8           WhatsApp   \n",
       "264          JP                    3.3               LINE   \n",
       "571          DK                    3.8            Twitter   \n",
       "602          PL                    6.2          Instagram   \n",
       "456          US                    8.1          Instagram   \n",
       "64           SK                    2.3           LinkedIn   \n",
       "688          FI                    4.4          Instagram   \n",
       "97           BH                    2.8           LinkedIn   \n",
       "\n",
       "    Affects_Academic_Performance  Sleep_Hours_Per_Night  Mental_Health_Score  \\\n",
       "631                          Yes                    6.3                    5   \n",
       "62                           Yes                    6.0                    6   \n",
       "423                          Yes                    5.5                    5   \n",
       "264                           No                    8.3                    8   \n",
       "571                           No                    7.8                    8   \n",
       "602                          Yes                    6.4                    5   \n",
       "456                          Yes                    4.2                    5   \n",
       "64                            No                    7.4                    8   \n",
       "688                           No                    7.4                    7   \n",
       "97                            No                    7.1                    8   \n",
       "\n",
       "    Relationship_Status  Conflicts_Over_Social_Media  Addicted_Score  \n",
       "631              Single                            4               8  \n",
       "62          Complicated                            3               7  \n",
       "423     In Relationship                            4               8  \n",
       "264              Single                            1               3  \n",
       "571     In Relationship                            2               4  \n",
       "602              Single                            4               8  \n",
       "456     In Relationship                            4               9  \n",
       "64      In Relationship                            1               3  \n",
       "688     In Relationship                            2               5  \n",
       "97          Complicated                            1               4  "
      ]
     },
     "execution_count": 15,
     "metadata": {},
     "output_type": "execute_result"
    }
   ],
   "source": [
    "country_code_col = df.pop('CountryCode')\n",
    "country_index = df.columns.get_loc('Country')\n",
    "df.insert(country_index + 1, 'CountryCode', country_code_col)\n",
    "df.sample(10)"
   ]
  },
  {
   "cell_type": "markdown",
   "id": "87b59668-48e0-4e85-87fc-a27d3fbb5a90",
   "metadata": {},
   "source": [
    "Cleaned and standardized the dataset by correcting country names, mapping them to country codes, and exploring key categorical variables.  \n",
    "Removed inconsistencies, verified uniqueness, and reordered columns for improved data structure and readability.\n"
   ]
  },
  {
   "cell_type": "markdown",
   "id": "476f728f-e12f-4921-931a-12491a4b9d2c",
   "metadata": {},
   "source": [
    "####        Key Performance Indicator\n"
   ]
  },
  {
   "cell_type": "code",
   "execution_count": 26,
   "id": "5ef42fdb-3cde-4f77-a5dd-0a8cbea21607",
   "metadata": {},
   "outputs": [
    {
     "data": {
      "application/vnd.plotly.v1+json": {
       "config": {
        "plotlyServerURL": "https://plot.ly"
       },
       "data": [
        {
         "domain": {
          "column": 0,
          "row": 0
         },
         "mode": "number",
         "title": {
          "text": "Unique Countries"
         },
         "type": "indicator",
         "value": 110
        },
        {
         "domain": {
          "column": 1,
          "row": 0
         },
         "mode": "number",
         "title": {
          "text": "Unique Platforms"
         },
         "type": "indicator",
         "value": 12
        },
        {
         "domain": {
          "column": 0,
          "row": 1
         },
         "mode": "number",
         "title": {
          "text": "Total Males"
         },
         "type": "indicator",
         "value": 352
        },
        {
         "domain": {
          "column": 1,
          "row": 1
         },
         "mode": "number",
         "title": {
          "text": "Total Females"
         },
         "type": "indicator",
         "value": 353
        },
        {
         "domain": {
          "column": 0,
          "row": 2
         },
         "mode": "number",
         "title": {
          "text": "Avg Sleep Hours"
         },
         "type": "indicator",
         "value": 4.92
        }
       ],
       "layout": {
        "autosize": true,
        "grid": {
         "columns": 2,
         "pattern": "independent",
         "rows": 3
        },
        "template": {
         "data": {
          "bar": [
           {
            "error_x": {
             "color": "#2a3f5f"
            },
            "error_y": {
             "color": "#2a3f5f"
            },
            "marker": {
             "line": {
              "color": "white",
              "width": 0.5
             },
             "pattern": {
              "fillmode": "overlay",
              "size": 10,
              "solidity": 0.2
             }
            },
            "type": "bar"
           }
          ],
          "barpolar": [
           {
            "marker": {
             "line": {
              "color": "white",
              "width": 0.5
             },
             "pattern": {
              "fillmode": "overlay",
              "size": 10,
              "solidity": 0.2
             }
            },
            "type": "barpolar"
           }
          ],
          "carpet": [
           {
            "aaxis": {
             "endlinecolor": "#2a3f5f",
             "gridcolor": "#C8D4E3",
             "linecolor": "#C8D4E3",
             "minorgridcolor": "#C8D4E3",
             "startlinecolor": "#2a3f5f"
            },
            "baxis": {
             "endlinecolor": "#2a3f5f",
             "gridcolor": "#C8D4E3",
             "linecolor": "#C8D4E3",
             "minorgridcolor": "#C8D4E3",
             "startlinecolor": "#2a3f5f"
            },
            "type": "carpet"
           }
          ],
          "choropleth": [
           {
            "colorbar": {
             "outlinewidth": 0,
             "ticks": ""
            },
            "type": "choropleth"
           }
          ],
          "contour": [
           {
            "colorbar": {
             "outlinewidth": 0,
             "ticks": ""
            },
            "colorscale": [
             [
              0,
              "#0d0887"
             ],
             [
              0.1111111111111111,
              "#46039f"
             ],
             [
              0.2222222222222222,
              "#7201a8"
             ],
             [
              0.3333333333333333,
              "#9c179e"
             ],
             [
              0.4444444444444444,
              "#bd3786"
             ],
             [
              0.5555555555555556,
              "#d8576b"
             ],
             [
              0.6666666666666666,
              "#ed7953"
             ],
             [
              0.7777777777777778,
              "#fb9f3a"
             ],
             [
              0.8888888888888888,
              "#fdca26"
             ],
             [
              1,
              "#f0f921"
             ]
            ],
            "type": "contour"
           }
          ],
          "contourcarpet": [
           {
            "colorbar": {
             "outlinewidth": 0,
             "ticks": ""
            },
            "type": "contourcarpet"
           }
          ],
          "heatmap": [
           {
            "colorbar": {
             "outlinewidth": 0,
             "ticks": ""
            },
            "colorscale": [
             [
              0,
              "#0d0887"
             ],
             [
              0.1111111111111111,
              "#46039f"
             ],
             [
              0.2222222222222222,
              "#7201a8"
             ],
             [
              0.3333333333333333,
              "#9c179e"
             ],
             [
              0.4444444444444444,
              "#bd3786"
             ],
             [
              0.5555555555555556,
              "#d8576b"
             ],
             [
              0.6666666666666666,
              "#ed7953"
             ],
             [
              0.7777777777777778,
              "#fb9f3a"
             ],
             [
              0.8888888888888888,
              "#fdca26"
             ],
             [
              1,
              "#f0f921"
             ]
            ],
            "type": "heatmap"
           }
          ],
          "heatmapgl": [
           {
            "colorbar": {
             "outlinewidth": 0,
             "ticks": ""
            },
            "colorscale": [
             [
              0,
              "#0d0887"
             ],
             [
              0.1111111111111111,
              "#46039f"
             ],
             [
              0.2222222222222222,
              "#7201a8"
             ],
             [
              0.3333333333333333,
              "#9c179e"
             ],
             [
              0.4444444444444444,
              "#bd3786"
             ],
             [
              0.5555555555555556,
              "#d8576b"
             ],
             [
              0.6666666666666666,
              "#ed7953"
             ],
             [
              0.7777777777777778,
              "#fb9f3a"
             ],
             [
              0.8888888888888888,
              "#fdca26"
             ],
             [
              1,
              "#f0f921"
             ]
            ],
            "type": "heatmapgl"
           }
          ],
          "histogram": [
           {
            "marker": {
             "pattern": {
              "fillmode": "overlay",
              "size": 10,
              "solidity": 0.2
             }
            },
            "type": "histogram"
           }
          ],
          "histogram2d": [
           {
            "colorbar": {
             "outlinewidth": 0,
             "ticks": ""
            },
            "colorscale": [
             [
              0,
              "#0d0887"
             ],
             [
              0.1111111111111111,
              "#46039f"
             ],
             [
              0.2222222222222222,
              "#7201a8"
             ],
             [
              0.3333333333333333,
              "#9c179e"
             ],
             [
              0.4444444444444444,
              "#bd3786"
             ],
             [
              0.5555555555555556,
              "#d8576b"
             ],
             [
              0.6666666666666666,
              "#ed7953"
             ],
             [
              0.7777777777777778,
              "#fb9f3a"
             ],
             [
              0.8888888888888888,
              "#fdca26"
             ],
             [
              1,
              "#f0f921"
             ]
            ],
            "type": "histogram2d"
           }
          ],
          "histogram2dcontour": [
           {
            "colorbar": {
             "outlinewidth": 0,
             "ticks": ""
            },
            "colorscale": [
             [
              0,
              "#0d0887"
             ],
             [
              0.1111111111111111,
              "#46039f"
             ],
             [
              0.2222222222222222,
              "#7201a8"
             ],
             [
              0.3333333333333333,
              "#9c179e"
             ],
             [
              0.4444444444444444,
              "#bd3786"
             ],
             [
              0.5555555555555556,
              "#d8576b"
             ],
             [
              0.6666666666666666,
              "#ed7953"
             ],
             [
              0.7777777777777778,
              "#fb9f3a"
             ],
             [
              0.8888888888888888,
              "#fdca26"
             ],
             [
              1,
              "#f0f921"
             ]
            ],
            "type": "histogram2dcontour"
           }
          ],
          "mesh3d": [
           {
            "colorbar": {
             "outlinewidth": 0,
             "ticks": ""
            },
            "type": "mesh3d"
           }
          ],
          "parcoords": [
           {
            "line": {
             "colorbar": {
              "outlinewidth": 0,
              "ticks": ""
             }
            },
            "type": "parcoords"
           }
          ],
          "pie": [
           {
            "automargin": true,
            "type": "pie"
           }
          ],
          "scatter": [
           {
            "fillpattern": {
             "fillmode": "overlay",
             "size": 10,
             "solidity": 0.2
            },
            "type": "scatter"
           }
          ],
          "scatter3d": [
           {
            "line": {
             "colorbar": {
              "outlinewidth": 0,
              "ticks": ""
             }
            },
            "marker": {
             "colorbar": {
              "outlinewidth": 0,
              "ticks": ""
             }
            },
            "type": "scatter3d"
           }
          ],
          "scattercarpet": [
           {
            "marker": {
             "colorbar": {
              "outlinewidth": 0,
              "ticks": ""
             }
            },
            "type": "scattercarpet"
           }
          ],
          "scattergeo": [
           {
            "marker": {
             "colorbar": {
              "outlinewidth": 0,
              "ticks": ""
             }
            },
            "type": "scattergeo"
           }
          ],
          "scattergl": [
           {
            "marker": {
             "colorbar": {
              "outlinewidth": 0,
              "ticks": ""
             }
            },
            "type": "scattergl"
           }
          ],
          "scattermapbox": [
           {
            "marker": {
             "colorbar": {
              "outlinewidth": 0,
              "ticks": ""
             }
            },
            "type": "scattermapbox"
           }
          ],
          "scatterpolar": [
           {
            "marker": {
             "colorbar": {
              "outlinewidth": 0,
              "ticks": ""
             }
            },
            "type": "scatterpolar"
           }
          ],
          "scatterpolargl": [
           {
            "marker": {
             "colorbar": {
              "outlinewidth": 0,
              "ticks": ""
             }
            },
            "type": "scatterpolargl"
           }
          ],
          "scatterternary": [
           {
            "marker": {
             "colorbar": {
              "outlinewidth": 0,
              "ticks": ""
             }
            },
            "type": "scatterternary"
           }
          ],
          "surface": [
           {
            "colorbar": {
             "outlinewidth": 0,
             "ticks": ""
            },
            "colorscale": [
             [
              0,
              "#0d0887"
             ],
             [
              0.1111111111111111,
              "#46039f"
             ],
             [
              0.2222222222222222,
              "#7201a8"
             ],
             [
              0.3333333333333333,
              "#9c179e"
             ],
             [
              0.4444444444444444,
              "#bd3786"
             ],
             [
              0.5555555555555556,
              "#d8576b"
             ],
             [
              0.6666666666666666,
              "#ed7953"
             ],
             [
              0.7777777777777778,
              "#fb9f3a"
             ],
             [
              0.8888888888888888,
              "#fdca26"
             ],
             [
              1,
              "#f0f921"
             ]
            ],
            "type": "surface"
           }
          ],
          "table": [
           {
            "cells": {
             "fill": {
              "color": "#EBF0F8"
             },
             "line": {
              "color": "white"
             }
            },
            "header": {
             "fill": {
              "color": "#C8D4E3"
             },
             "line": {
              "color": "white"
             }
            },
            "type": "table"
           }
          ]
         },
         "layout": {
          "annotationdefaults": {
           "arrowcolor": "#2a3f5f",
           "arrowhead": 0,
           "arrowwidth": 1
          },
          "autotypenumbers": "strict",
          "coloraxis": {
           "colorbar": {
            "outlinewidth": 0,
            "ticks": ""
           }
          },
          "colorscale": {
           "diverging": [
            [
             0,
             "#8e0152"
            ],
            [
             0.1,
             "#c51b7d"
            ],
            [
             0.2,
             "#de77ae"
            ],
            [
             0.3,
             "#f1b6da"
            ],
            [
             0.4,
             "#fde0ef"
            ],
            [
             0.5,
             "#f7f7f7"
            ],
            [
             0.6,
             "#e6f5d0"
            ],
            [
             0.7,
             "#b8e186"
            ],
            [
             0.8,
             "#7fbc41"
            ],
            [
             0.9,
             "#4d9221"
            ],
            [
             1,
             "#276419"
            ]
           ],
           "sequential": [
            [
             0,
             "#0d0887"
            ],
            [
             0.1111111111111111,
             "#46039f"
            ],
            [
             0.2222222222222222,
             "#7201a8"
            ],
            [
             0.3333333333333333,
             "#9c179e"
            ],
            [
             0.4444444444444444,
             "#bd3786"
            ],
            [
             0.5555555555555556,
             "#d8576b"
            ],
            [
             0.6666666666666666,
             "#ed7953"
            ],
            [
             0.7777777777777778,
             "#fb9f3a"
            ],
            [
             0.8888888888888888,
             "#fdca26"
            ],
            [
             1,
             "#f0f921"
            ]
           ],
           "sequentialminus": [
            [
             0,
             "#0d0887"
            ],
            [
             0.1111111111111111,
             "#46039f"
            ],
            [
             0.2222222222222222,
             "#7201a8"
            ],
            [
             0.3333333333333333,
             "#9c179e"
            ],
            [
             0.4444444444444444,
             "#bd3786"
            ],
            [
             0.5555555555555556,
             "#d8576b"
            ],
            [
             0.6666666666666666,
             "#ed7953"
            ],
            [
             0.7777777777777778,
             "#fb9f3a"
            ],
            [
             0.8888888888888888,
             "#fdca26"
            ],
            [
             1,
             "#f0f921"
            ]
           ]
          },
          "colorway": [
           "#636efa",
           "#EF553B",
           "#00cc96",
           "#ab63fa",
           "#FFA15A",
           "#19d3f3",
           "#FF6692",
           "#B6E880",
           "#FF97FF",
           "#FECB52"
          ],
          "font": {
           "color": "#2a3f5f"
          },
          "geo": {
           "bgcolor": "white",
           "lakecolor": "white",
           "landcolor": "white",
           "showlakes": true,
           "showland": true,
           "subunitcolor": "#C8D4E3"
          },
          "hoverlabel": {
           "align": "left"
          },
          "hovermode": "closest",
          "mapbox": {
           "style": "light"
          },
          "paper_bgcolor": "white",
          "plot_bgcolor": "white",
          "polar": {
           "angularaxis": {
            "gridcolor": "#EBF0F8",
            "linecolor": "#EBF0F8",
            "ticks": ""
           },
           "bgcolor": "white",
           "radialaxis": {
            "gridcolor": "#EBF0F8",
            "linecolor": "#EBF0F8",
            "ticks": ""
           }
          },
          "scene": {
           "xaxis": {
            "backgroundcolor": "white",
            "gridcolor": "#DFE8F3",
            "gridwidth": 2,
            "linecolor": "#EBF0F8",
            "showbackground": true,
            "ticks": "",
            "zerolinecolor": "#EBF0F8"
           },
           "yaxis": {
            "backgroundcolor": "white",
            "gridcolor": "#DFE8F3",
            "gridwidth": 2,
            "linecolor": "#EBF0F8",
            "showbackground": true,
            "ticks": "",
            "zerolinecolor": "#EBF0F8"
           },
           "zaxis": {
            "backgroundcolor": "white",
            "gridcolor": "#DFE8F3",
            "gridwidth": 2,
            "linecolor": "#EBF0F8",
            "showbackground": true,
            "ticks": "",
            "zerolinecolor": "#EBF0F8"
           }
          },
          "shapedefaults": {
           "line": {
            "color": "#2a3f5f"
           }
          },
          "ternary": {
           "aaxis": {
            "gridcolor": "#DFE8F3",
            "linecolor": "#A2B1C6",
            "ticks": ""
           },
           "baxis": {
            "gridcolor": "#DFE8F3",
            "linecolor": "#A2B1C6",
            "ticks": ""
           },
           "bgcolor": "white",
           "caxis": {
            "gridcolor": "#DFE8F3",
            "linecolor": "#A2B1C6",
            "ticks": ""
           }
          },
          "title": {
           "x": 0.05
          },
          "xaxis": {
           "automargin": true,
           "gridcolor": "#EBF0F8",
           "linecolor": "#EBF0F8",
           "ticks": "",
           "title": {
            "standoff": 15
           },
           "zerolinecolor": "#EBF0F8",
           "zerolinewidth": 2
          },
          "yaxis": {
           "automargin": true,
           "gridcolor": "#EBF0F8",
           "linecolor": "#EBF0F8",
           "ticks": "",
           "title": {
            "standoff": 15
           },
           "zerolinecolor": "#EBF0F8",
           "zerolinewidth": 2
          }
         }
        },
        "title": {
         "text": "KPI Dashboard"
        }
       }
      },
      "image/png": "[encoded data removed]",
      "text/html": [
       "<div>                            <div id=\"cec0a459-3508-443b-9803-882d0f7ee5dc\" class=\"plotly-graph-div\" style=\"height:600px; width:100%;\"></div>            <script type=\"text/javascript\">                require([\"plotly\"], function(Plotly) {                    window.PLOTLYENV=window.PLOTLYENV || {};                                    if (document.getElementById(\"cec0a459-3508-443b-9803-882d0f7ee5dc\")) {                    Plotly.newPlot(                        \"cec0a459-3508-443b-9803-882d0f7ee5dc\",                        [{\"domain\":{\"column\":0,\"row\":0},\"mode\":\"number\",\"title\":{\"text\":\"Unique Countries\"},\"value\":110,\"type\":\"indicator\"},{\"domain\":{\"column\":1,\"row\":0},\"mode\":\"number\",\"title\":{\"text\":\"Unique Platforms\"},\"value\":12,\"type\":\"indicator\"},{\"domain\":{\"column\":0,\"row\":1},\"mode\":\"number\",\"title\":{\"text\":\"Total Males\"},\"value\":352,\"type\":\"indicator\"},{\"domain\":{\"column\":1,\"row\":1},\"mode\":\"number\",\"title\":{\"text\":\"Total Females\"},\"value\":353,\"type\":\"indicator\"},{\"domain\":{\"column\":0,\"row\":2},\"mode\":\"number\",\"title\":{\"text\":\"Avg Sleep Hours\"},\"value\":4.92,\"type\":\"indicator\"}],                        {\"template\":{\"data\":{\"barpolar\":[{\"marker\":{\"line\":{\"color\":\"white\",\"width\":0.5},\"pattern\":{\"fillmode\":\"overlay\",\"size\":10,\"solidity\":0.2}},\"type\":\"barpolar\"}],\"bar\":[{\"error_x\":{\"color\":\"#2a3f5f\"},\"error_y\":{\"color\":\"#2a3f5f\"},\"marker\":{\"line\":{\"color\":\"white\",\"width\":0.5},\"pattern\":{\"fillmode\":\"overlay\",\"size\":10,\"solidity\":0.2}},\"type\":\"bar\"}],\"carpet\":[{\"aaxis\":{\"endlinecolor\":\"#2a3f5f\",\"gridcolor\":\"#C8D4E3\",\"linecolor\":\"#C8D4E3\",\"minorgridcolor\":\"#C8D4E3\",\"startlinecolor\":\"#2a3f5f\"},\"baxis\":{\"endlinecolor\":\"#2a3f5f\",\"gridcolor\":\"#C8D4E3\",\"linecolor\":\"#C8D4E3\",\"minorgridcolor\":\"#C8D4E3\",\"startlinecolor\":\"#2a3f5f\"},\"type\":\"carpet\"}],\"choropleth\":[{\"colorbar\":{\"outlinewidth\":0,\"ticks\":\"\"},\"type\":\"choropleth\"}],\"contourcarpet\":[{\"colorbar\":{\"outlinewidth\":0,\"ticks\":\"\"},\"type\":\"contourcarpet\"}],\"contour\":[{\"colorbar\":{\"outlinewidth\":0,\"ticks\":\"\"},\"colorscale\":[[0.0,\"#0d0887\"],[0.1111111111111111,\"#46039f\"],[0.2222222222222222,\"#7201a8\"],[0.3333333333333333,\"#9c179e\"],[0.4444444444444444,\"#bd3786\"],[0.5555555555555556,\"#d8576b\"],[0.6666666666666666,\"#ed7953\"],[0.7777777777777778,\"#fb9f3a\"],[0.8888888888888888,\"#fdca26\"],[1.0,\"#f0f921\"]],\"type\":\"contour\"}],\"heatmapgl\":[{\"colorbar\":{\"outlinewidth\":0,\"ticks\":\"\"},\"colorscale\":[[0.0,\"#0d0887\"],[0.1111111111111111,\"#46039f\"],[0.2222222222222222,\"#7201a8\"],[0.3333333333333333,\"#9c179e\"],[0.4444444444444444,\"#bd3786\"],[0.5555555555555556,\"#d8576b\"],[0.6666666666666666,\"#ed7953\"],[0.7777777777777778,\"#fb9f3a\"],[0.8888888888888888,\"#fdca26\"],[1.0,\"#f0f921\"]],\"type\":\"heatmapgl\"}],\"heatmap\":[{\"colorbar\":{\"outlinewidth\":0,\"ticks\":\"\"},\"colorscale\":[[0.0,\"#0d0887\"],[0.1111111111111111,\"#46039f\"],[0.2222222222222222,\"#7201a8\"],[0.3333333333333333,\"#9c179e\"],[0.4444444444444444,\"#bd3786\"],[0.5555555555555556,\"#d8576b\"],[0.6666666666666666,\"#ed7953\"],[0.7777777777777778,\"#fb9f3a\"],[0.8888888888888888,\"#fdca26\"],[1.0,\"#f0f921\"]],\"type\":\"heatmap\"}],\"histogram2dcontour\":[{\"colorbar\":{\"outlinewidth\":0,\"ticks\":\"\"},\"colorscale\":[[0.0,\"#0d0887\"],[0.1111111111111111,\"#46039f\"],[0.2222222222222222,\"#7201a8\"],[0.3333333333333333,\"#9c179e\"],[0.4444444444444444,\"#bd3786\"],[0.5555555555555556,\"#d8576b\"],[0.6666666666666666,\"#ed7953\"],[0.7777777777777778,\"#fb9f3a\"],[0.8888888888888888,\"#fdca26\"],[1.0,\"#f0f921\"]],\"type\":\"histogram2dcontour\"}],\"histogram2d\":[{\"colorbar\":{\"outlinewidth\":0,\"ticks\":\"\"},\"colorscale\":[[0.0,\"#0d0887\"],[0.1111111111111111,\"#46039f\"],[0.2222222222222222,\"#7201a8\"],[0.3333333333333333,\"#9c179e\"],[0.4444444444444444,\"#bd3786\"],[0.5555555555555556,\"#d8576b\"],[0.6666666666666666,\"#ed7953\"],[0.7777777777777778,\"#fb9f3a\"],[0.8888888888888888,\"#fdca26\"],[1.0,\"#f0f921\"]],\"type\":\"histogram2d\"}],\"histogram\":[{\"marker\":{\"pattern\":{\"fillmode\":\"overlay\",\"size\":10,\"solidity\":0.2}},\"type\":\"histogram\"}],\"mesh3d\":[{\"colorbar\":{\"outlinewidth\":0,\"ticks\":\"\"},\"type\":\"mesh3d\"}],\"parcoords\":[{\"line\":{\"colorbar\":{\"outlinewidth\":0,\"ticks\":\"\"}},\"type\":\"parcoords\"}],\"pie\":[{\"automargin\":true,\"type\":\"pie\"}],\"scatter3d\":[{\"line\":{\"colorbar\":{\"outlinewidth\":0,\"ticks\":\"\"}},\"marker\":{\"colorbar\":{\"outlinewidth\":0,\"ticks\":\"\"}},\"type\":\"scatter3d\"}],\"scattercarpet\":[{\"marker\":{\"colorbar\":{\"outlinewidth\":0,\"ticks\":\"\"}},\"type\":\"scattercarpet\"}],\"scattergeo\":[{\"marker\":{\"colorbar\":{\"outlinewidth\":0,\"ticks\":\"\"}},\"type\":\"scattergeo\"}],\"scattergl\":[{\"marker\":{\"colorbar\":{\"outlinewidth\":0,\"ticks\":\"\"}},\"type\":\"scattergl\"}],\"scattermapbox\":[{\"marker\":{\"colorbar\":{\"outlinewidth\":0,\"ticks\":\"\"}},\"type\":\"scattermapbox\"}],\"scatterpolargl\":[{\"marker\":{\"colorbar\":{\"outlinewidth\":0,\"ticks\":\"\"}},\"type\":\"scatterpolargl\"}],\"scatterpolar\":[{\"marker\":{\"colorbar\":{\"outlinewidth\":0,\"ticks\":\"\"}},\"type\":\"scatterpolar\"}],\"scatter\":[{\"fillpattern\":{\"fillmode\":\"overlay\",\"size\":10,\"solidity\":0.2},\"type\":\"scatter\"}],\"scatterternary\":[{\"marker\":{\"colorbar\":{\"outlinewidth\":0,\"ticks\":\"\"}},\"type\":\"scatterternary\"}],\"surface\":[{\"colorbar\":{\"outlinewidth\":0,\"ticks\":\"\"},\"colorscale\":[[0.0,\"#0d0887\"],[0.1111111111111111,\"#46039f\"],[0.2222222222222222,\"#7201a8\"],[0.3333333333333333,\"#9c179e\"],[0.4444444444444444,\"#bd3786\"],[0.5555555555555556,\"#d8576b\"],[0.6666666666666666,\"#ed7953\"],[0.7777777777777778,\"#fb9f3a\"],[0.8888888888888888,\"#fdca26\"],[1.0,\"#f0f921\"]],\"type\":\"surface\"}],\"table\":[{\"cells\":{\"fill\":{\"color\":\"#EBF0F8\"},\"line\":{\"color\":\"white\"}},\"header\":{\"fill\":{\"color\":\"#C8D4E3\"},\"line\":{\"color\":\"white\"}},\"type\":\"table\"}]},\"layout\":{\"annotationdefaults\":{\"arrowcolor\":\"#2a3f5f\",\"arrowhead\":0,\"arrowwidth\":1},\"autotypenumbers\":\"strict\",\"coloraxis\":{\"colorbar\":{\"outlinewidth\":0,\"ticks\":\"\"}},\"colorscale\":{\"diverging\":[[0,\"#8e0152\"],[0.1,\"#c51b7d\"],[0.2,\"#de77ae\"],[0.3,\"#f1b6da\"],[0.4,\"#fde0ef\"],[0.5,\"#f7f7f7\"],[0.6,\"#e6f5d0\"],[0.7,\"#b8e186\"],[0.8,\"#7fbc41\"],[0.9,\"#4d9221\"],[1,\"#276419\"]],\"sequential\":[[0.0,\"#0d0887\"],[0.1111111111111111,\"#46039f\"],[0.2222222222222222,\"#7201a8\"],[0.3333333333333333,\"#9c179e\"],[0.4444444444444444,\"#bd3786\"],[0.5555555555555556,\"#d8576b\"],[0.6666666666666666,\"#ed7953\"],[0.7777777777777778,\"#fb9f3a\"],[0.8888888888888888,\"#fdca26\"],[1.0,\"#f0f921\"]],\"sequentialminus\":[[0.0,\"#0d0887\"],[0.1111111111111111,\"#46039f\"],[0.2222222222222222,\"#7201a8\"],[0.3333333333333333,\"#9c179e\"],[0.4444444444444444,\"#bd3786\"],[0.5555555555555556,\"#d8576b\"],[0.6666666666666666,\"#ed7953\"],[0.7777777777777778,\"#fb9f3a\"],[0.8888888888888888,\"#fdca26\"],[1.0,\"#f0f921\"]]},\"colorway\":[\"#636efa\",\"#EF553B\",\"#00cc96\",\"#ab63fa\",\"#FFA15A\",\"#19d3f3\",\"#FF6692\",\"#B6E880\",\"#FF97FF\",\"#FECB52\"],\"font\":{\"color\":\"#2a3f5f\"},\"geo\":{\"bgcolor\":\"white\",\"lakecolor\":\"white\",\"landcolor\":\"white\",\"showlakes\":true,\"showland\":true,\"subunitcolor\":\"#C8D4E3\"},\"hoverlabel\":{\"align\":\"left\"},\"hovermode\":\"closest\",\"mapbox\":{\"style\":\"light\"},\"paper_bgcolor\":\"white\",\"plot_bgcolor\":\"white\",\"polar\":{\"angularaxis\":{\"gridcolor\":\"#EBF0F8\",\"linecolor\":\"#EBF0F8\",\"ticks\":\"\"},\"bgcolor\":\"white\",\"radialaxis\":{\"gridcolor\":\"#EBF0F8\",\"linecolor\":\"#EBF0F8\",\"ticks\":\"\"}},\"scene\":{\"xaxis\":{\"backgroundcolor\":\"white\",\"gridcolor\":\"#DFE8F3\",\"gridwidth\":2,\"linecolor\":\"#EBF0F8\",\"showbackground\":true,\"ticks\":\"\",\"zerolinecolor\":\"#EBF0F8\"},\"yaxis\":{\"backgroundcolor\":\"white\",\"gridcolor\":\"#DFE8F3\",\"gridwidth\":2,\"linecolor\":\"#EBF0F8\",\"showbackground\":true,\"ticks\":\"\",\"zerolinecolor\":\"#EBF0F8\"},\"zaxis\":{\"backgroundcolor\":\"white\",\"gridcolor\":\"#DFE8F3\",\"gridwidth\":2,\"linecolor\":\"#EBF0F8\",\"showbackground\":true,\"ticks\":\"\",\"zerolinecolor\":\"#EBF0F8\"}},\"shapedefaults\":{\"line\":{\"color\":\"#2a3f5f\"}},\"ternary\":{\"aaxis\":{\"gridcolor\":\"#DFE8F3\",\"linecolor\":\"#A2B1C6\",\"ticks\":\"\"},\"baxis\":{\"gridcolor\":\"#DFE8F3\",\"linecolor\":\"#A2B1C6\",\"ticks\":\"\"},\"bgcolor\":\"white\",\"caxis\":{\"gridcolor\":\"#DFE8F3\",\"linecolor\":\"#A2B1C6\",\"ticks\":\"\"}},\"title\":{\"x\":0.05},\"xaxis\":{\"automargin\":true,\"gridcolor\":\"#EBF0F8\",\"linecolor\":\"#EBF0F8\",\"ticks\":\"\",\"title\":{\"standoff\":15},\"zerolinecolor\":\"#EBF0F8\",\"zerolinewidth\":2},\"yaxis\":{\"automargin\":true,\"gridcolor\":\"#EBF0F8\",\"linecolor\":\"#EBF0F8\",\"ticks\":\"\",\"title\":{\"standoff\":15},\"zerolinecolor\":\"#EBF0F8\",\"zerolinewidth\":2}}},\"grid\":{\"rows\":3,\"columns\":2,\"pattern\":\"independent\"},\"height\":600,\"title\":{\"text\":\"KPI Dashboard\"}},                        {\"responsive\": true}                    ).then(function(){\n",
       "                            \n",
       "var gd = document.getElementById('cec0a459-3508-443b-9803-882d0f7ee5dc');\n",
       "var x = new MutationObserver(function (mutations, observer) {{\n",
       "        var display = window.getComputedStyle(gd).display;\n",
       "        if (!display || display === 'none') {{\n",
       "            console.log([gd, 'removed!']);\n",
       "            Plotly.purge(gd);\n",
       "            observer.disconnect();\n",
       "        }}\n",
       "}});\n",
       "\n",
       "// Listen for the removal of the full notebook cells\n",
       "var notebookContainer = gd.closest('#notebook-container');\n",
       "if (notebookContainer) {{\n",
       "    x.observe(notebookContainer, {childList: true});\n",
       "}}\n",
       "\n",
       "// Listen for the clearing of the current output cell\n",
       "var outputEl = gd.closest('.output');\n",
       "if (outputEl) {{\n",
       "    x.observe(outputEl, {childList: true});\n",
       "}}\n",
       "\n",
       "                        })                };                });            </script>        </div>"
      ]
     },
     "metadata": {},
     "output_type": "display_data"
    }
   ],
   "source": [
    "import plotly.graph_objects as go\n",
    "\n",
    "unique_countries = df['Country'].nunique()\n",
    "unique_platforms = df['Most_Used_Platform'].nunique()\n",
    "male_count = (df['Gender'] == 'Male').sum()\n",
    "female_count = (df['Gender'] == 'Female').sum()\n",
    "avg_sleep = round(df['Avg_Daily_Usage_Hours'].mean(), 2)\n",
    "\n",
    "fig = go.Figure()\n",
    "\n",
    "fig.add_trace(go.Indicator(\n",
    "    mode=\"number\",\n",
    "    value=unique_countries,\n",
    "    title={\"text\": \"Unique Countries\"},\n",
    "    domain={'row': 0, 'column': 0}\n",
    "))\n",
    "\n",
    "fig.add_trace(go.Indicator(\n",
    "    mode=\"number\",\n",
    "    value=unique_platforms,\n",
    "    title={\"text\": \"Unique Platforms\"},\n",
    "    domain={'row': 0, 'column': 1}\n",
    "))\n",
    "\n",
    "\n",
    "fig.add_trace(go.Indicator(\n",
    "    mode=\"number\",\n",
    "    value=male_count,\n",
    "    title={\"text\": \"Total Males\"},\n",
    "    domain={'row': 1, 'column': 0}\n",
    "))\n",
    "\n",
    "\n",
    "fig.add_trace(go.Indicator(\n",
    "    mode=\"number\",\n",
    "    value=female_count,\n",
    "    title={\"text\": \"Total Females\"},\n",
    "    domain={'row': 1, 'column': 1}\n",
    "))\n",
    "\n",
    "\n",
    "fig.add_trace(go.Indicator(\n",
    "    mode=\"number\",\n",
    "    value=avg_sleep,\n",
    "    title={\"text\": \"Avg Sleep Hours\"},\n",
    "    domain={'row': 2, 'column': 0}\n",
    "))\n",
    "\n",
    "fig.update_layout(\n",
    "    grid={'rows': 3, 'columns': 2, 'pattern': \"independent\"},\n",
    "    height=600,\n",
    "    template=\"plotly_white\",\n",
    "    title=\"KPI Dashboard\"\n",
    ")\n",
    "\n",
    "fig.show()\n"
   ]
  },
  {
   "cell_type": "markdown",
   "id": "86850c14-e554-4d93-a1f1-d8da4e4cc2b3",
   "metadata": {},
   "source": [
    "###        Exploratory Data Analysis (EDA) "
   ]
  },
  {
   "cell_type": "markdown",
   "id": "d6fb601f-cfb7-4974-b317-839b2bc8cf70",
   "metadata": {},
   "source": [
    "####        Platforms Affecting Academic Performance"
   ]
  },
  {
   "cell_type": "code",
   "execution_count": 55,
   "id": "13b1d787-10a0-4044-871e-75cad0a58daa",
   "metadata": {},
   "outputs": [
    {
     "data": {
      "image/png": "[encoded data removed]",
      "text/plain": [
       "<Figure size 1000x600 with 1 Axes>"
      ]
     },
     "metadata": {},
     "output_type": "display_data"
    }
   ],
   "source": [
    "cross_tab = pd.crosstab(df['Most_Used_Platform'], df['Affects_Academic_Performance'])\n",
    "cross_tab.plot(kind='bar', figsize=(10,6), color=['teal', 'gold'])\n",
    "\n",
    "plt.title('Platforms Affecting Academic Performance')\n",
    "plt.xlabel('Most Used Platform')\n",
    "plt.ylabel('Count')\n",
    "plt.xticks(rotation=45)\n",
    "plt.legend(title='Academic Performance')\n",
    "plt.tight_layout()\n",
    "plt.show()\n"
   ]
  },
  {
   "cell_type": "markdown",
   "id": "9e2b5d71-f4c9-4850-a35a-07b302916ee1",
   "metadata": {},
   "source": [
    "This bar chart compares how academic performance is affected across different social media platforms. It shows the count of students per platform categorized by their reported academic impact.\n"
   ]
  },
  {
   "cell_type": "markdown",
   "id": "a45c46f5-0c08-4ab8-b73c-c2a1cc753bbd",
   "metadata": {},
   "source": [
    "####        Mental Health score by gender"
   ]
  },
  {
   "cell_type": "code",
   "execution_count": 56,
   "id": "547feb04-9ee6-4785-aee0-991617d1bd71",
   "metadata": {},
   "outputs": [
    {
     "data": {
      "image/png": "[encoded data removed]",
      "text/plain": [
       "<Figure size 800x600 with 1 Axes>"
      ]
     },
     "metadata": {},
     "output_type": "display_data"
    }
   ],
   "source": [
    "grouped = df.groupby('Gender')[['Mental_Health_Score', 'Sleep_Hours_Per_Night']].mean()\n",
    "\n",
    "grouped.plot(kind='bar', stacked=True, figsize=(8,6), color=['lightcoral', 'lightblue'])\n",
    "plt.title('Average Mental Health Score and Sleep Hours by Gender')\n",
    "plt.xlabel('Gender')\n",
    "plt.ylabel('Average Value')\n",
    "plt.show()\n"
   ]
  },
  {
   "cell_type": "markdown",
   "id": "66d7def4-3ed5-4cf9-81b0-9df7f43758a1",
   "metadata": {},
   "source": [
    "This stacked bar chart shows the average mental health scores and sleep hours for each gender. It highlights differences in well-being and rest patterns between male and female students."
   ]
  },
  {
   "cell_type": "markdown",
   "id": "1fa5c1a1-5281-4a49-8631-0aa9bf4e0c95",
   "metadata": {},
   "source": [
    "####        Countries by Academic Level "
   ]
  },
  {
   "cell_type": "code",
   "execution_count": 57,
   "id": "c0cb5783-ae2b-4382-ba48-11fdff0e1cb4",
   "metadata": {},
   "outputs": [
    {
     "data": {
      "image/png": "[encoded data removed]",
      "text/plain": [
       "<Figure size 700x700 with 1 Axes>"
      ]
     },
     "metadata": {},
     "output_type": "display_data"
    }
   ],
   "source": [
    "country_counts_per_level = df.groupby('Academic_Level')['Country'].nunique()\n",
    "\n",
    "plt.figure(figsize=(7,7))\n",
    "country_counts_per_level.plot(kind='pie', autopct='%1.1f%%', startangle=90)\n",
    "plt.title('Percecntage of coutries by Academic Level')\n",
    "plt.ylabel('')  \n",
    "plt.show()\n"
   ]
  },
  {
   "cell_type": "markdown",
   "id": "9cf33e05-4f3c-4efc-9264-9d0b592b24dc",
   "metadata": {},
   "source": [
    "This pie chart shows the percentage of countries that have students in each academic level. It highlights how widely each academic level is represented across different countries.\n"
   ]
  },
  {
   "cell_type": "code",
   "execution_count": null,
   "id": "b676ec3c-738b-46d3-ba9f-e4d70acf8c73",
   "metadata": {},
   "outputs": [],
   "source": []
  }
 ],
 "metadata": {
  "kernelspec": {
   "display_name": "Python 3 (ipykernel)",
   "language": "python",
   "name": "python3"
  },
  "language_info": {
   "codemirror_mode": {
    "name": "ipython",
    "version": 3
   },
   "file_extension": ".py",
   "mimetype": "text/x-python",
   "name": "python",
   "nbconvert_exporter": "python",
   "pygments_lexer": "ipython3",
   "version": "3.12.7"
  }
 },
 "nbformat": 4,
 "nbformat_minor": 5
}
